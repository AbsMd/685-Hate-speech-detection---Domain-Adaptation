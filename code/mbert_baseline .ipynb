{
  "nbformat": 4,
  "nbformat_minor": 0,
  "metadata": {
    "accelerator": "GPU",
    "colab": {
      "provenance": [],
      "gpuType": "T4"
    },
    "kernelspec": {
      "display_name": "Python 3",
      "name": "python3"
    },
    "gpuClass": "standard"
  },
  "cells": [
    {
      "cell_type": "code",
      "metadata": {
        "id": "edOh9ooiIW1B",
        "colab": {
          "base_uri": "https://localhost:8080/"
        },
        "outputId": "1a19097e-c8f9-4dea-db3b-c3bac91d212f"
      },
      "source": [
        "import torch\n",
        "\n",
        "# Confirm that the GPU is detected\n",
        "\n",
        "assert torch.cuda.is_available()\n",
        "\n",
        "# Get the GPU device name.\n",
        "device_name = torch.cuda.get_device_name()\n",
        "n_gpu = torch.cuda.device_count()\n",
        "print(f\"Found device: {device_name}, n_gpu: {n_gpu}\")\n",
        "device = torch.device(\"cuda\")"
      ],
      "execution_count": 24,
      "outputs": [
        {
          "output_type": "stream",
          "name": "stdout",
          "text": [
            "Found device: Tesla T4, n_gpu: 1\n"
          ]
        }
      ]
    },
    {
      "cell_type": "code",
      "metadata": {
        "id": "gtqS2e5fxpqa",
        "colab": {
          "base_uri": "https://localhost:8080/"
        },
        "outputId": "ab45b850-9f84-451d-c86e-fb0bef7f784a"
      },
      "source": [
        "!pip install transformers\n",
        "!pip install -U -q PyDrive"
      ],
      "execution_count": 25,
      "outputs": [
        {
          "output_type": "stream",
          "name": "stdout",
          "text": [
            "Looking in indexes: https://pypi.org/simple, https://us-python.pkg.dev/colab-wheels/public/simple/\n",
            "Requirement already satisfied: transformers in /usr/local/lib/python3.10/dist-packages (4.29.2)\n",
            "Requirement already satisfied: filelock in /usr/local/lib/python3.10/dist-packages (from transformers) (3.12.0)\n",
            "Requirement already satisfied: huggingface-hub<1.0,>=0.14.1 in /usr/local/lib/python3.10/dist-packages (from transformers) (0.14.1)\n",
            "Requirement already satisfied: numpy>=1.17 in /usr/local/lib/python3.10/dist-packages (from transformers) (1.22.4)\n",
            "Requirement already satisfied: packaging>=20.0 in /usr/local/lib/python3.10/dist-packages (from transformers) (23.1)\n",
            "Requirement already satisfied: pyyaml>=5.1 in /usr/local/lib/python3.10/dist-packages (from transformers) (6.0)\n",
            "Requirement already satisfied: regex!=2019.12.17 in /usr/local/lib/python3.10/dist-packages (from transformers) (2022.10.31)\n",
            "Requirement already satisfied: requests in /usr/local/lib/python3.10/dist-packages (from transformers) (2.27.1)\n",
            "Requirement already satisfied: tokenizers!=0.11.3,<0.14,>=0.11.1 in /usr/local/lib/python3.10/dist-packages (from transformers) (0.13.3)\n",
            "Requirement already satisfied: tqdm>=4.27 in /usr/local/lib/python3.10/dist-packages (from transformers) (4.65.0)\n",
            "Requirement already satisfied: fsspec in /usr/local/lib/python3.10/dist-packages (from huggingface-hub<1.0,>=0.14.1->transformers) (2023.4.0)\n",
            "Requirement already satisfied: typing-extensions>=3.7.4.3 in /usr/local/lib/python3.10/dist-packages (from huggingface-hub<1.0,>=0.14.1->transformers) (4.5.0)\n",
            "Requirement already satisfied: urllib3<1.27,>=1.21.1 in /usr/local/lib/python3.10/dist-packages (from requests->transformers) (1.26.15)\n",
            "Requirement already satisfied: certifi>=2017.4.17 in /usr/local/lib/python3.10/dist-packages (from requests->transformers) (2022.12.7)\n",
            "Requirement already satisfied: charset-normalizer~=2.0.0 in /usr/local/lib/python3.10/dist-packages (from requests->transformers) (2.0.12)\n",
            "Requirement already satisfied: idna<4,>=2.5 in /usr/local/lib/python3.10/dist-packages (from requests->transformers) (3.4)\n"
          ]
        }
      ]
    },
    {
      "cell_type": "code",
      "source": [
        "import pandas as pd\n",
        "from transformers import XLMRobertaForSequenceClassification, AdamW, XLMRobertaConfig\n",
        "from torch.utils.data import TensorDataset, random_split\n",
        "from transformers import AutoTokenizer\n",
        "from torch.utils.data import DataLoader, RandomSampler, SequentialSampler\n",
        "import sys\n",
        "import numpy as np\n",
        "import time\n",
        "import datetime\n",
        "\n",
        "def tokenize_and_format(sentences):\n",
        "  tokenizer = AutoTokenizer.from_pretrained(\"bert-base-multilingual-cased\", do_lower_case=False)\n",
        "\n",
        "  # Tokenize all of the sentences and map the tokens to thier word IDs.\n",
        "  input_ids = []\n",
        "  attention_masks = []\n",
        "\n",
        "  # For every sentence...\n",
        "  for sentence in sentences:\n",
        "      # `encode_plus` will:\n",
        "      #   (1) Tokenize the sentence.\n",
        "      #   (2) Prepend the `[CLS]` token to the start.\n",
        "      #   (3) Append the `[SEP]` token to the end.\n",
        "      #   (4) Map tokens to their IDs.\n",
        "      #   (5) Pad or truncate the sentence to `max_length`\n",
        "      #   (6) Create attention masks for [PAD] tokens.\n",
        "      encoded_dict = tokenizer.encode_plus(\n",
        "                          sentence,                      # Sentence to encode.\n",
        "                          add_special_tokens = True, # Add '[CLS]' and '[SEP]'\n",
        "                          max_length = 64,           # Pad & truncate all sentences.\n",
        "                          pad_to_max_length = True,\n",
        "                          truncation = True,\n",
        "                          return_attention_mask = True,   # Construct attn. masks.\n",
        "                          return_tensors = 'pt',     # Return pytorch tensors.\n",
        "                    )\n",
        "\n",
        "      # Add the encoded sentence to the list.\n",
        "      input_ids.append(encoded_dict['input_ids'])\n",
        "\n",
        "      # And its attention mask (simply differentiates padding from non-padding).\n",
        "      attention_masks.append(encoded_dict['attention_mask'])\n",
        "  return input_ids, attention_masks\n",
        "\n",
        "def flat_accuracy(preds, labels):\n",
        "    pred_flat = np.argmax(preds, axis=1).flatten()\n",
        "    labels_flat = labels.flatten()\n",
        "    return np.sum(pred_flat == labels_flat) / len(labels_flat)\n"
      ],
      "metadata": {
        "id": "xvR4_nyGmnDf"
      },
      "execution_count": 26,
      "outputs": []
    },
    {
      "cell_type": "code",
      "metadata": {
        "id": "Taseb33Sovg0",
        "colab": {
          "base_uri": "https://localhost:8080/",
          "height": 206
        },
        "outputId": "aead6236-d8c3-4756-8340-be1d30991560"
      },
      "source": [
        "import pandas as pd\n",
        "\n",
        "data = pd.read_csv(\"/content/NLP Ethos - Hindi - ethos.csv\")\n",
        "data = data.sample(frac = 1).reset_index(drop=True)\n",
        "total = data.shape[0]\n",
        "train_data = data.iloc[:801, 2:]\n",
        "train_data = train_data.sample(frac = 1).reset_index(drop=True)\n",
        "validation_data = data.iloc[801:, 2:]\n",
        "validation_data = validation_data.sample(frac = 1).reset_index(drop=True)\n",
        "train_data.head()"
      ],
      "execution_count": 27,
      "outputs": [
        {
          "output_type": "execute_result",
          "data": {
            "text/plain": [
              "   Label                                        Translation\n",
              "0      1  लकवाग्रस्त बच्चों को पत्थर फेंकना मेरा पसंदीदा...\n",
              "1      1  कुरान में साफ लिखा है जो कुरान को नहीं मानता व...\n",
              "2      0  यह फकहैड मुझे यहूदी होने पर शर्मिंदा करता है। ...\n",
              "3      1  मुझे वास्तव में आपका लहजा पसंद नहीं है। मैं आप...\n",
              "4      0  ओह, मुझे लगता है कि 13 reasons why आत्महत्या क..."
            ],
            "text/html": [
              "\n",
              "  <div id=\"df-ebb38bf8-da89-47f3-bb7a-b90b73f4af9f\">\n",
              "    <div class=\"colab-df-container\">\n",
              "      <div>\n",
              "<style scoped>\n",
              "    .dataframe tbody tr th:only-of-type {\n",
              "        vertical-align: middle;\n",
              "    }\n",
              "\n",
              "    .dataframe tbody tr th {\n",
              "        vertical-align: top;\n",
              "    }\n",
              "\n",
              "    .dataframe thead th {\n",
              "        text-align: right;\n",
              "    }\n",
              "</style>\n",
              "<table border=\"1\" class=\"dataframe\">\n",
              "  <thead>\n",
              "    <tr style=\"text-align: right;\">\n",
              "      <th></th>\n",
              "      <th>Label</th>\n",
              "      <th>Translation</th>\n",
              "    </tr>\n",
              "  </thead>\n",
              "  <tbody>\n",
              "    <tr>\n",
              "      <th>0</th>\n",
              "      <td>1</td>\n",
              "      <td>लकवाग्रस्त बच्चों को पत्थर फेंकना मेरा पसंदीदा...</td>\n",
              "    </tr>\n",
              "    <tr>\n",
              "      <th>1</th>\n",
              "      <td>1</td>\n",
              "      <td>कुरान में साफ लिखा है जो कुरान को नहीं मानता व...</td>\n",
              "    </tr>\n",
              "    <tr>\n",
              "      <th>2</th>\n",
              "      <td>0</td>\n",
              "      <td>यह फकहैड मुझे यहूदी होने पर शर्मिंदा करता है। ...</td>\n",
              "    </tr>\n",
              "    <tr>\n",
              "      <th>3</th>\n",
              "      <td>1</td>\n",
              "      <td>मुझे वास्तव में आपका लहजा पसंद नहीं है। मैं आप...</td>\n",
              "    </tr>\n",
              "    <tr>\n",
              "      <th>4</th>\n",
              "      <td>0</td>\n",
              "      <td>ओह, मुझे लगता है कि 13 reasons why आत्महत्या क...</td>\n",
              "    </tr>\n",
              "  </tbody>\n",
              "</table>\n",
              "</div>\n",
              "      <button class=\"colab-df-convert\" onclick=\"convertToInteractive('df-ebb38bf8-da89-47f3-bb7a-b90b73f4af9f')\"\n",
              "              title=\"Convert this dataframe to an interactive table.\"\n",
              "              style=\"display:none;\">\n",
              "        \n",
              "  <svg xmlns=\"http://www.w3.org/2000/svg\" height=\"24px\"viewBox=\"0 0 24 24\"\n",
              "       width=\"24px\">\n",
              "    <path d=\"M0 0h24v24H0V0z\" fill=\"none\"/>\n",
              "    <path d=\"M18.56 5.44l.94 2.06.94-2.06 2.06-.94-2.06-.94-.94-2.06-.94 2.06-2.06.94zm-11 1L8.5 8.5l.94-2.06 2.06-.94-2.06-.94L8.5 2.5l-.94 2.06-2.06.94zm10 10l.94 2.06.94-2.06 2.06-.94-2.06-.94-.94-2.06-.94 2.06-2.06.94z\"/><path d=\"M17.41 7.96l-1.37-1.37c-.4-.4-.92-.59-1.43-.59-.52 0-1.04.2-1.43.59L10.3 9.45l-7.72 7.72c-.78.78-.78 2.05 0 2.83L4 21.41c.39.39.9.59 1.41.59.51 0 1.02-.2 1.41-.59l7.78-7.78 2.81-2.81c.8-.78.8-2.07 0-2.86zM5.41 20L4 18.59l7.72-7.72 1.47 1.35L5.41 20z\"/>\n",
              "  </svg>\n",
              "      </button>\n",
              "      \n",
              "  <style>\n",
              "    .colab-df-container {\n",
              "      display:flex;\n",
              "      flex-wrap:wrap;\n",
              "      gap: 12px;\n",
              "    }\n",
              "\n",
              "    .colab-df-convert {\n",
              "      background-color: #E8F0FE;\n",
              "      border: none;\n",
              "      border-radius: 50%;\n",
              "      cursor: pointer;\n",
              "      display: none;\n",
              "      fill: #1967D2;\n",
              "      height: 32px;\n",
              "      padding: 0 0 0 0;\n",
              "      width: 32px;\n",
              "    }\n",
              "\n",
              "    .colab-df-convert:hover {\n",
              "      background-color: #E2EBFA;\n",
              "      box-shadow: 0px 1px 2px rgba(60, 64, 67, 0.3), 0px 1px 3px 1px rgba(60, 64, 67, 0.15);\n",
              "      fill: #174EA6;\n",
              "    }\n",
              "\n",
              "    [theme=dark] .colab-df-convert {\n",
              "      background-color: #3B4455;\n",
              "      fill: #D2E3FC;\n",
              "    }\n",
              "\n",
              "    [theme=dark] .colab-df-convert:hover {\n",
              "      background-color: #434B5C;\n",
              "      box-shadow: 0px 1px 3px 1px rgba(0, 0, 0, 0.15);\n",
              "      filter: drop-shadow(0px 1px 2px rgba(0, 0, 0, 0.3));\n",
              "      fill: #FFFFFF;\n",
              "    }\n",
              "  </style>\n",
              "\n",
              "      <script>\n",
              "        const buttonEl =\n",
              "          document.querySelector('#df-ebb38bf8-da89-47f3-bb7a-b90b73f4af9f button.colab-df-convert');\n",
              "        buttonEl.style.display =\n",
              "          google.colab.kernel.accessAllowed ? 'block' : 'none';\n",
              "\n",
              "        async function convertToInteractive(key) {\n",
              "          const element = document.querySelector('#df-ebb38bf8-da89-47f3-bb7a-b90b73f4af9f');\n",
              "          const dataTable =\n",
              "            await google.colab.kernel.invokeFunction('convertToInteractive',\n",
              "                                                     [key], {});\n",
              "          if (!dataTable) return;\n",
              "\n",
              "          const docLinkHtml = 'Like what you see? Visit the ' +\n",
              "            '<a target=\"_blank\" href=https://colab.research.google.com/notebooks/data_table.ipynb>data table notebook</a>'\n",
              "            + ' to learn more about interactive tables.';\n",
              "          element.innerHTML = '';\n",
              "          dataTable['output_type'] = 'display_data';\n",
              "          await google.colab.output.renderOutput(dataTable, element);\n",
              "          const docLink = document.createElement('div');\n",
              "          docLink.innerHTML = docLinkHtml;\n",
              "          element.appendChild(docLink);\n",
              "        }\n",
              "      </script>\n",
              "    </div>\n",
              "  </div>\n",
              "  "
            ]
          },
          "metadata": {},
          "execution_count": 27
        }
      ]
    },
    {
      "cell_type": "code",
      "source": [
        "type(data)"
      ],
      "metadata": {
        "colab": {
          "base_uri": "https://localhost:8080/"
        },
        "id": "czOoVldx_dv8",
        "outputId": "2a534c3f-c3e0-4c27-a0d6-8875278a9f19"
      },
      "execution_count": 28,
      "outputs": [
        {
          "output_type": "execute_result",
          "data": {
            "text/plain": [
              "pandas.core.frame.DataFrame"
            ]
          },
          "metadata": {},
          "execution_count": 28
        }
      ]
    },
    {
      "cell_type": "code",
      "source": [
        "validation_data.head()"
      ],
      "metadata": {
        "colab": {
          "base_uri": "https://localhost:8080/",
          "height": 206
        },
        "id": "EIGdqwWRy52b",
        "outputId": "f189f5d0-2009-4c1b-a2ba-669741eb57ce"
      },
      "execution_count": 29,
      "outputs": [
        {
          "output_type": "execute_result",
          "data": {
            "text/plain": [
              "   Label                                        Translation\n",
              "0      0   इस्लाम सच्चा धर्म है। इस पर विश्वास करें भाइयों।\n",
              "1      1  यदि आप समलैंगिक हैं तो मेरे पास आपके लिए एक प्...\n",
              "2      1                                          गंदी चीनी\n",
              "3      1                 पुरुष जाति स्त्रियों की अधीनस्थ है\n",
              "4      1  उन कमीनों को लात मारो और कभी वापस मत आना। इस्ल..."
            ],
            "text/html": [
              "\n",
              "  <div id=\"df-2fe9b236-61cc-4a60-8017-e1d2e8cd021e\">\n",
              "    <div class=\"colab-df-container\">\n",
              "      <div>\n",
              "<style scoped>\n",
              "    .dataframe tbody tr th:only-of-type {\n",
              "        vertical-align: middle;\n",
              "    }\n",
              "\n",
              "    .dataframe tbody tr th {\n",
              "        vertical-align: top;\n",
              "    }\n",
              "\n",
              "    .dataframe thead th {\n",
              "        text-align: right;\n",
              "    }\n",
              "</style>\n",
              "<table border=\"1\" class=\"dataframe\">\n",
              "  <thead>\n",
              "    <tr style=\"text-align: right;\">\n",
              "      <th></th>\n",
              "      <th>Label</th>\n",
              "      <th>Translation</th>\n",
              "    </tr>\n",
              "  </thead>\n",
              "  <tbody>\n",
              "    <tr>\n",
              "      <th>0</th>\n",
              "      <td>0</td>\n",
              "      <td>इस्लाम सच्चा धर्म है। इस पर विश्वास करें भाइयों।</td>\n",
              "    </tr>\n",
              "    <tr>\n",
              "      <th>1</th>\n",
              "      <td>1</td>\n",
              "      <td>यदि आप समलैंगिक हैं तो मेरे पास आपके लिए एक प्...</td>\n",
              "    </tr>\n",
              "    <tr>\n",
              "      <th>2</th>\n",
              "      <td>1</td>\n",
              "      <td>गंदी चीनी</td>\n",
              "    </tr>\n",
              "    <tr>\n",
              "      <th>3</th>\n",
              "      <td>1</td>\n",
              "      <td>पुरुष जाति स्त्रियों की अधीनस्थ है</td>\n",
              "    </tr>\n",
              "    <tr>\n",
              "      <th>4</th>\n",
              "      <td>1</td>\n",
              "      <td>उन कमीनों को लात मारो और कभी वापस मत आना। इस्ल...</td>\n",
              "    </tr>\n",
              "  </tbody>\n",
              "</table>\n",
              "</div>\n",
              "      <button class=\"colab-df-convert\" onclick=\"convertToInteractive('df-2fe9b236-61cc-4a60-8017-e1d2e8cd021e')\"\n",
              "              title=\"Convert this dataframe to an interactive table.\"\n",
              "              style=\"display:none;\">\n",
              "        \n",
              "  <svg xmlns=\"http://www.w3.org/2000/svg\" height=\"24px\"viewBox=\"0 0 24 24\"\n",
              "       width=\"24px\">\n",
              "    <path d=\"M0 0h24v24H0V0z\" fill=\"none\"/>\n",
              "    <path d=\"M18.56 5.44l.94 2.06.94-2.06 2.06-.94-2.06-.94-.94-2.06-.94 2.06-2.06.94zm-11 1L8.5 8.5l.94-2.06 2.06-.94-2.06-.94L8.5 2.5l-.94 2.06-2.06.94zm10 10l.94 2.06.94-2.06 2.06-.94-2.06-.94-.94-2.06-.94 2.06-2.06.94z\"/><path d=\"M17.41 7.96l-1.37-1.37c-.4-.4-.92-.59-1.43-.59-.52 0-1.04.2-1.43.59L10.3 9.45l-7.72 7.72c-.78.78-.78 2.05 0 2.83L4 21.41c.39.39.9.59 1.41.59.51 0 1.02-.2 1.41-.59l7.78-7.78 2.81-2.81c.8-.78.8-2.07 0-2.86zM5.41 20L4 18.59l7.72-7.72 1.47 1.35L5.41 20z\"/>\n",
              "  </svg>\n",
              "      </button>\n",
              "      \n",
              "  <style>\n",
              "    .colab-df-container {\n",
              "      display:flex;\n",
              "      flex-wrap:wrap;\n",
              "      gap: 12px;\n",
              "    }\n",
              "\n",
              "    .colab-df-convert {\n",
              "      background-color: #E8F0FE;\n",
              "      border: none;\n",
              "      border-radius: 50%;\n",
              "      cursor: pointer;\n",
              "      display: none;\n",
              "      fill: #1967D2;\n",
              "      height: 32px;\n",
              "      padding: 0 0 0 0;\n",
              "      width: 32px;\n",
              "    }\n",
              "\n",
              "    .colab-df-convert:hover {\n",
              "      background-color: #E2EBFA;\n",
              "      box-shadow: 0px 1px 2px rgba(60, 64, 67, 0.3), 0px 1px 3px 1px rgba(60, 64, 67, 0.15);\n",
              "      fill: #174EA6;\n",
              "    }\n",
              "\n",
              "    [theme=dark] .colab-df-convert {\n",
              "      background-color: #3B4455;\n",
              "      fill: #D2E3FC;\n",
              "    }\n",
              "\n",
              "    [theme=dark] .colab-df-convert:hover {\n",
              "      background-color: #434B5C;\n",
              "      box-shadow: 0px 1px 3px 1px rgba(0, 0, 0, 0.15);\n",
              "      filter: drop-shadow(0px 1px 2px rgba(0, 0, 0, 0.3));\n",
              "      fill: #FFFFFF;\n",
              "    }\n",
              "  </style>\n",
              "\n",
              "      <script>\n",
              "        const buttonEl =\n",
              "          document.querySelector('#df-2fe9b236-61cc-4a60-8017-e1d2e8cd021e button.colab-df-convert');\n",
              "        buttonEl.style.display =\n",
              "          google.colab.kernel.accessAllowed ? 'block' : 'none';\n",
              "\n",
              "        async function convertToInteractive(key) {\n",
              "          const element = document.querySelector('#df-2fe9b236-61cc-4a60-8017-e1d2e8cd021e');\n",
              "          const dataTable =\n",
              "            await google.colab.kernel.invokeFunction('convertToInteractive',\n",
              "                                                     [key], {});\n",
              "          if (!dataTable) return;\n",
              "\n",
              "          const docLinkHtml = 'Like what you see? Visit the ' +\n",
              "            '<a target=\"_blank\" href=https://colab.research.google.com/notebooks/data_table.ipynb>data table notebook</a>'\n",
              "            + ' to learn more about interactive tables.';\n",
              "          element.innerHTML = '';\n",
              "          dataTable['output_type'] = 'display_data';\n",
              "          await google.colab.output.renderOutput(dataTable, element);\n",
              "          const docLink = document.createElement('div');\n",
              "          docLink.innerHTML = docLinkHtml;\n",
              "          element.appendChild(docLink);\n",
              "        }\n",
              "      </script>\n",
              "    </div>\n",
              "  </div>\n",
              "  "
            ]
          },
          "metadata": {},
          "execution_count": 29
        }
      ]
    },
    {
      "cell_type": "code",
      "source": [
        "print('Shape of training data is:', train_data.shape)\n",
        "print('Shape of validation data (eng) is:', validation_data.shape)\n",
        "#print('Shape of validation data (hindi) is:', validation_data_hindi.shape)\n",
        "\n",
        "train_len = train_data.shape[0]\n",
        "val_len = validation_data.shape[0]\n",
        "#val_len_hindi = validation_data_hindi.shape[0]"
      ],
      "metadata": {
        "colab": {
          "base_uri": "https://localhost:8080/"
        },
        "id": "lMmeeObGzAA2",
        "outputId": "55fa93e8-d742-4113-bd4e-f720df138678"
      },
      "execution_count": 30,
      "outputs": [
        {
          "output_type": "stream",
          "name": "stdout",
          "text": [
            "Shape of training data is: (801, 2)\n",
            "Shape of validation data (eng) is: (221, 2)\n"
          ]
        }
      ]
    },
    {
      "cell_type": "code",
      "source": [
        "import seaborn as sns\n",
        "sns.set_theme(style=\"whitegrid\")\n",
        "sns.countplot(x=train_data['Label'])"
      ],
      "metadata": {
        "colab": {
          "base_uri": "https://localhost:8080/",
          "height": 476
        },
        "id": "DBNpAxayzCu9",
        "outputId": "5a38f532-3815-4251-8d14-954152f9cce6"
      },
      "execution_count": 31,
      "outputs": [
        {
          "output_type": "execute_result",
          "data": {
            "text/plain": [
              "<Axes: xlabel='Label', ylabel='count'>"
            ]
          },
          "metadata": {},
          "execution_count": 31
        },
        {
          "output_type": "display_data",
          "data": {
            "text/plain": [
              "<Figure size 640x480 with 1 Axes>"
            ],
            "image/png": "[encoded data removed]"
          },
          "metadata": {}
        }
      ]
    },
    {
      "cell_type": "code",
      "source": [
        "sns.set_theme(style=\"whitegrid\")\n",
        "sns.countplot(x=validation_data['Label'])"
      ],
      "metadata": {
        "colab": {
          "base_uri": "https://localhost:8080/",
          "height": 476
        },
        "id": "DGOxWyDszDSK",
        "outputId": "eac89fa7-f32c-43b6-8ba4-0327c8374a76"
      },
      "execution_count": 32,
      "outputs": [
        {
          "output_type": "execute_result",
          "data": {
            "text/plain": [
              "<Axes: xlabel='Label', ylabel='count'>"
            ]
          },
          "metadata": {},
          "execution_count": 32
        },
        {
          "output_type": "display_data",
          "data": {
            "text/plain": [
              "<Figure size 640x480 with 1 Axes>"
            ],
            "image/png": "[encoded data removed]"
          },
          "metadata": {}
        }
      ]
    },
    {
      "cell_type": "code",
      "metadata": {
        "id": "YGhkeLQlNNr8",
        "colab": {
          "base_uri": "https://localhost:8080/"
        },
        "outputId": "d5cdc170-9a10-45b0-8a2a-457e79796b12"
      },
      "source": [
        "text = data.Translation.values\n",
        "labels = data.Label.values\n",
        "\n",
        "### tokenize_and_format() is a helper function provided in helpers.py ###\n",
        "input_ids, attention_masks = tokenize_and_format(text)\n",
        "\n",
        "# Convert the lists into tensors.\n",
        "input_ids = torch.cat(input_ids, dim=0)\n",
        "attention_masks = torch.cat(attention_masks, dim=0)\n",
        "labels = torch.tensor(labels)\n",
        "\n",
        "# Print sentence 0, now as a list of IDs.\n",
        "print('Original: ', text[0])\n",
        "print('Token IDs:', input_ids[0])"
      ],
      "execution_count": 33,
      "outputs": [
        {
          "output_type": "stream",
          "name": "stderr",
          "text": [
            "/usr/local/lib/python3.10/dist-packages/transformers/tokenization_utils_base.py:2364: FutureWarning: The `pad_to_max_length` argument is deprecated and will be removed in a future version, use `padding=True` or `padding='longest'` to pad to the longest sequence in the batch, or use `padding='max_length'` to pad to a max length. In this case, you can give a specific length with `max_length` (e.g. `max_length=45`) or leave max_length to None to pad to the maximal input size of the model (e.g. 512 for Bert).\n",
            "  warnings.warn(\n"
          ]
        },
        {
          "output_type": "stream",
          "name": "stdout",
          "text": [
            "Original:  नहीं ट्रम्प! हम चाहते हैं कि आप सभी अवैध अप्रवासियों को निर्वासित करें! जब मैं कहता हूं सब, मेरा मतलब है सब! अवधि! मैं»¿\n",
            "Token IDs: tensor([   101,  16791,    875,  53606,  20429,  18187,    106, 105127,    870,\n",
            "         66921,  17203,  11716,  14117,    852,  18187,  35387,    851,  15070,\n",
            "         18438,  27694,    851,  18187,  18321, 102116,  19966,  11267,    884,\n",
            "         46354,  27155,  34646,  13184,  16192,  42057,    106,  29404,    889,\n",
            "         99007,    865, 108775,  11208,    899,  15778,  14018, 110334,    117,\n",
            "         40265,  31277,    889,  11845,  11714,  18351,  10569, 110334,    106,\n",
            "           851,  15070,  32831,    106,    889,  99007,    220,    224,    102,\n",
            "             0])\n"
          ]
        }
      ]
    },
    {
      "cell_type": "code",
      "metadata": {
        "id": "kGgeZ3M0UWs0"
      },
      "source": [
        "train_data = data.iloc[:801, 2:]\n",
        "validation_data_eng = data.iloc[801:, 2:]\n",
        "\n",
        "# make lists of 3-tuples (already shuffled the dataframe in cell above)\n",
        "\n",
        "train_set = [(input_ids[i], attention_masks[i], labels[i]) for i in range(801)]\n",
        "val_set = [(input_ids[i], attention_masks[i], labels[i]) for i in range(801, total)]\n",
        "\n",
        "\n",
        "train_text = [text[i] for i in range(801)]\n",
        "val_text = [text[i] for i in range(801, total)]"
      ],
      "execution_count": 34,
      "outputs": []
    },
    {
      "cell_type": "code",
      "source": [
        "data = pd.read_csv(\"/content/Friends Hatespeech Multilingual Dataset - Sheet1.csv\")\n",
        "test_data = data.iloc[:, 1:3]\n",
        "test_data = test_data.sample(frac = 1).reset_index(drop=True)\n",
        "test_data.head()"
      ],
      "metadata": {
        "colab": {
          "base_uri": "https://localhost:8080/",
          "height": 206
        },
        "id": "oW4jmf0CpvoJ",
        "outputId": "b64196df-8984-479b-f814-214abf73d54a"
      },
      "execution_count": 35,
      "outputs": [
        {
          "output_type": "execute_result",
          "data": {
            "text/plain": [
              "   label                                       Translations\n",
              "0      1          तो तुम बस ऐसे ही, एक आदमी हो जो नैनी है? \n",
              "1      0  मुझें नहीं पता! मैं नहीं—शायद आप थोड़ा नाराज म...\n",
              "2      1                                   तुम एक मूर्ख हो!\n",
              "3      0  हाँ, वे करते हैं! बच्चे की तरह बनना छोड़ो और म...\n",
              "4      0  ओहायो में एक गर्भवती महिला है, और उसने हमें चु..."
            ],
            "text/html": [
              "\n",
              "  <div id=\"df-f1cf8420-cbd0-408e-a68d-25b180e96c61\">\n",
              "    <div class=\"colab-df-container\">\n",
              "      <div>\n",
              "<style scoped>\n",
              "    .dataframe tbody tr th:only-of-type {\n",
              "        vertical-align: middle;\n",
              "    }\n",
              "\n",
              "    .dataframe tbody tr th {\n",
              "        vertical-align: top;\n",
              "    }\n",
              "\n",
              "    .dataframe thead th {\n",
              "        text-align: right;\n",
              "    }\n",
              "</style>\n",
              "<table border=\"1\" class=\"dataframe\">\n",
              "  <thead>\n",
              "    <tr style=\"text-align: right;\">\n",
              "      <th></th>\n",
              "      <th>label</th>\n",
              "      <th>Translations</th>\n",
              "    </tr>\n",
              "  </thead>\n",
              "  <tbody>\n",
              "    <tr>\n",
              "      <th>0</th>\n",
              "      <td>1</td>\n",
              "      <td>तो तुम बस ऐसे ही, एक आदमी हो जो नैनी है?</td>\n",
              "    </tr>\n",
              "    <tr>\n",
              "      <th>1</th>\n",
              "      <td>0</td>\n",
              "      <td>मुझें नहीं पता! मैं नहीं—शायद आप थोड़ा नाराज म...</td>\n",
              "    </tr>\n",
              "    <tr>\n",
              "      <th>2</th>\n",
              "      <td>1</td>\n",
              "      <td>तुम एक मूर्ख हो!</td>\n",
              "    </tr>\n",
              "    <tr>\n",
              "      <th>3</th>\n",
              "      <td>0</td>\n",
              "      <td>हाँ, वे करते हैं! बच्चे की तरह बनना छोड़ो और म...</td>\n",
              "    </tr>\n",
              "    <tr>\n",
              "      <th>4</th>\n",
              "      <td>0</td>\n",
              "      <td>ओहायो में एक गर्भवती महिला है, और उसने हमें चु...</td>\n",
              "    </tr>\n",
              "  </tbody>\n",
              "</table>\n",
              "</div>\n",
              "      <button class=\"colab-df-convert\" onclick=\"convertToInteractive('df-f1cf8420-cbd0-408e-a68d-25b180e96c61')\"\n",
              "              title=\"Convert this dataframe to an interactive table.\"\n",
              "              style=\"display:none;\">\n",
              "        \n",
              "  <svg xmlns=\"http://www.w3.org/2000/svg\" height=\"24px\"viewBox=\"0 0 24 24\"\n",
              "       width=\"24px\">\n",
              "    <path d=\"M0 0h24v24H0V0z\" fill=\"none\"/>\n",
              "    <path d=\"M18.56 5.44l.94 2.06.94-2.06 2.06-.94-2.06-.94-.94-2.06-.94 2.06-2.06.94zm-11 1L8.5 8.5l.94-2.06 2.06-.94-2.06-.94L8.5 2.5l-.94 2.06-2.06.94zm10 10l.94 2.06.94-2.06 2.06-.94-2.06-.94-.94-2.06-.94 2.06-2.06.94z\"/><path d=\"M17.41 7.96l-1.37-1.37c-.4-.4-.92-.59-1.43-.59-.52 0-1.04.2-1.43.59L10.3 9.45l-7.72 7.72c-.78.78-.78 2.05 0 2.83L4 21.41c.39.39.9.59 1.41.59.51 0 1.02-.2 1.41-.59l7.78-7.78 2.81-2.81c.8-.78.8-2.07 0-2.86zM5.41 20L4 18.59l7.72-7.72 1.47 1.35L5.41 20z\"/>\n",
              "  </svg>\n",
              "      </button>\n",
              "      \n",
              "  <style>\n",
              "    .colab-df-container {\n",
              "      display:flex;\n",
              "      flex-wrap:wrap;\n",
              "      gap: 12px;\n",
              "    }\n",
              "\n",
              "    .colab-df-convert {\n",
              "      background-color: #E8F0FE;\n",
              "      border: none;\n",
              "      border-radius: 50%;\n",
              "      cursor: pointer;\n",
              "      display: none;\n",
              "      fill: #1967D2;\n",
              "      height: 32px;\n",
              "      padding: 0 0 0 0;\n",
              "      width: 32px;\n",
              "    }\n",
              "\n",
              "    .colab-df-convert:hover {\n",
              "      background-color: #E2EBFA;\n",
              "      box-shadow: 0px 1px 2px rgba(60, 64, 67, 0.3), 0px 1px 3px 1px rgba(60, 64, 67, 0.15);\n",
              "      fill: #174EA6;\n",
              "    }\n",
              "\n",
              "    [theme=dark] .colab-df-convert {\n",
              "      background-color: #3B4455;\n",
              "      fill: #D2E3FC;\n",
              "    }\n",
              "\n",
              "    [theme=dark] .colab-df-convert:hover {\n",
              "      background-color: #434B5C;\n",
              "      box-shadow: 0px 1px 3px 1px rgba(0, 0, 0, 0.15);\n",
              "      filter: drop-shadow(0px 1px 2px rgba(0, 0, 0, 0.3));\n",
              "      fill: #FFFFFF;\n",
              "    }\n",
              "  </style>\n",
              "\n",
              "      <script>\n",
              "        const buttonEl =\n",
              "          document.querySelector('#df-f1cf8420-cbd0-408e-a68d-25b180e96c61 button.colab-df-convert');\n",
              "        buttonEl.style.display =\n",
              "          google.colab.kernel.accessAllowed ? 'block' : 'none';\n",
              "\n",
              "        async function convertToInteractive(key) {\n",
              "          const element = document.querySelector('#df-f1cf8420-cbd0-408e-a68d-25b180e96c61');\n",
              "          const dataTable =\n",
              "            await google.colab.kernel.invokeFunction('convertToInteractive',\n",
              "                                                     [key], {});\n",
              "          if (!dataTable) return;\n",
              "\n",
              "          const docLinkHtml = 'Like what you see? Visit the ' +\n",
              "            '<a target=\"_blank\" href=https://colab.research.google.com/notebooks/data_table.ipynb>data table notebook</a>'\n",
              "            + ' to learn more about interactive tables.';\n",
              "          element.innerHTML = '';\n",
              "          dataTable['output_type'] = 'display_data';\n",
              "          await google.colab.output.renderOutput(dataTable, element);\n",
              "          const docLink = document.createElement('div');\n",
              "          docLink.innerHTML = docLinkHtml;\n",
              "          element.appendChild(docLink);\n",
              "        }\n",
              "      </script>\n",
              "    </div>\n",
              "  </div>\n",
              "  "
            ]
          },
          "metadata": {},
          "execution_count": 35
        }
      ]
    },
    {
      "cell_type": "code",
      "source": [
        "test_text = test_data.Translations.values\n",
        "test_labels = test_data.label.values\n",
        "test_len = test_data.shape[0]\n",
        "\n",
        "### tokenize_and_format() is a helper function provided in helpers.py ###\n",
        "test_input_ids, test_attention_masks = tokenize_and_format(test_text)\n",
        "\n",
        "# Convert the lists into tensors.\n",
        "test_input_ids = torch.cat(test_input_ids, dim=0)\n",
        "test_attention_masks = torch.cat(test_attention_masks, dim=0)\n",
        "test_labels = torch.tensor(test_labels)\n",
        "\n",
        "# Print sentence 0, now as a list of IDs.\n",
        "print('Original: ', test_text[0])\n",
        "print('Token IDs:', test_input_ids[0])\n",
        "\n",
        "test_set = [(test_input_ids[i], test_attention_masks[i], test_labels[i]) for i in range(test_len)]"
      ],
      "metadata": {
        "colab": {
          "base_uri": "https://localhost:8080/"
        },
        "id": "vTTrZdwTqzjp",
        "outputId": "10441c30-5425-432c-90e9-65bde1b70856"
      },
      "execution_count": 36,
      "outputs": [
        {
          "output_type": "stream",
          "name": "stdout",
          "text": [
            "Original:  तो तुम बस ऐसे ही, एक आदमी हो जो नैनी है? \n",
            "Token IDs: tensor([  101, 21042,   880, 14070, 13841,   887, 13432, 70648, 14080,   117,\n",
            "        11186,   852, 15552, 40340, 13220, 15134, 59029, 19810, 10569,   136,\n",
            "          102,     0,     0,     0,     0,     0,     0,     0,     0,     0,\n",
            "            0,     0,     0,     0,     0,     0,     0,     0,     0,     0,\n",
            "            0,     0,     0,     0,     0,     0,     0,     0,     0,     0,\n",
            "            0,     0,     0,     0,     0,     0,     0,     0,     0,     0,\n",
            "            0,     0,     0,     0])\n"
          ]
        },
        {
          "output_type": "stream",
          "name": "stderr",
          "text": [
            "/usr/local/lib/python3.10/dist-packages/transformers/tokenization_utils_base.py:2364: FutureWarning: The `pad_to_max_length` argument is deprecated and will be removed in a future version, use `padding=True` or `padding='longest'` to pad to the longest sequence in the batch, or use `padding='max_length'` to pad to a max length. In this case, you can give a specific length with `max_length` (e.g. `max_length=45`) or leave max_length to None to pad to the maximal input size of the model (e.g. 512 for Bert).\n",
            "  warnings.warn(\n"
          ]
        }
      ]
    },
    {
      "cell_type": "code",
      "metadata": {
        "id": "lPo640_ZlEPK",
        "colab": {
          "base_uri": "https://localhost:8080/"
        },
        "outputId": "aa71cfc3-f6db-40a2-ff79-67b06f9aef96"
      },
      "source": [
        "from transformers import BertForSequenceClassification, AdamW, XLMRobertaConfig\n",
        "\n",
        "model = BertForSequenceClassification.from_pretrained(\n",
        "    \"bert-base-multilingual-cased\", # Use the base XLM-Roberta model\n",
        "    num_labels = 2, # The number of output labels\n",
        "    output_attentions = False, # Whether the model returns attention weights\n",
        "    output_hidden_states = False, # Whether the model returns all hidden states\n",
        ")\n",
        "\n",
        "'''from transformers.adapters import PfeifferInvConfig\n",
        "\n",
        "config = PfeifferInvConfig()\n",
        "model.add_adapter(\"lang_adapter\", config=config)\n",
        "model.set_active_adapters(\"lang_adapter\")'''\n",
        "\n",
        "# from transformers.adapters import LoRAConfig\n",
        "\n",
        "# config = LoRAConfig(r=8, alpha=16)\n",
        "# model.add_adapter(\"lora_adapter\", config=config)\n",
        "# model.set_active_adapters(\"lora_adapter\")\n",
        "\n",
        "# Tell PyTorch to run this model on the GPU\n",
        "model.cuda()\n"
      ],
      "execution_count": 46,
      "outputs": [
        {
          "output_type": "stream",
          "name": "stderr",
          "text": [
            "Some weights of the model checkpoint at bert-base-multilingual-cased were not used when initializing BertForSequenceClassification: ['cls.predictions.bias', 'cls.predictions.transform.LayerNorm.weight', 'cls.predictions.transform.dense.weight', 'cls.seq_relationship.weight', 'cls.predictions.transform.dense.bias', 'cls.predictions.decoder.weight', 'cls.seq_relationship.bias', 'cls.predictions.transform.LayerNorm.bias']\n",
            "- This IS expected if you are initializing BertForSequenceClassification from the checkpoint of a model trained on another task or with another architecture (e.g. initializing a BertForSequenceClassification model from a BertForPreTraining model).\n",
            "- This IS NOT expected if you are initializing BertForSequenceClassification from the checkpoint of a model that you expect to be exactly identical (initializing a BertForSequenceClassification model from a BertForSequenceClassification model).\n",
            "Some weights of BertForSequenceClassification were not initialized from the model checkpoint at bert-base-multilingual-cased and are newly initialized: ['classifier.weight', 'classifier.bias']\n",
            "You should probably TRAIN this model on a down-stream task to be able to use it for predictions and inference.\n"
          ]
        },
        {
          "output_type": "execute_result",
          "data": {
            "text/plain": [
              "BertForSequenceClassification(\n",
              "  (bert): BertModel(\n",
              "    (embeddings): BertEmbeddings(\n",
              "      (word_embeddings): Embedding(119547, 768, padding_idx=0)\n",
              "      (position_embeddings): Embedding(512, 768)\n",
              "      (token_type_embeddings): Embedding(2, 768)\n",
              "      (LayerNorm): LayerNorm((768,), eps=1e-12, elementwise_affine=True)\n",
              "      (dropout): Dropout(p=0.1, inplace=False)\n",
              "    )\n",
              "    (encoder): BertEncoder(\n",
              "      (layer): ModuleList(\n",
              "        (0-11): 12 x BertLayer(\n",
              "          (attention): BertAttention(\n",
              "            (self): BertSelfAttention(\n",
              "              (query): Linear(in_features=768, out_features=768, bias=True)\n",
              "              (key): Linear(in_features=768, out_features=768, bias=True)\n",
              "              (value): Linear(in_features=768, out_features=768, bias=True)\n",
              "              (dropout): Dropout(p=0.1, inplace=False)\n",
              "            )\n",
              "            (output): BertSelfOutput(\n",
              "              (dense): Linear(in_features=768, out_features=768, bias=True)\n",
              "              (LayerNorm): LayerNorm((768,), eps=1e-12, elementwise_affine=True)\n",
              "              (dropout): Dropout(p=0.1, inplace=False)\n",
              "            )\n",
              "          )\n",
              "          (intermediate): BertIntermediate(\n",
              "            (dense): Linear(in_features=768, out_features=3072, bias=True)\n",
              "            (intermediate_act_fn): GELUActivation()\n",
              "          )\n",
              "          (output): BertOutput(\n",
              "            (dense): Linear(in_features=3072, out_features=768, bias=True)\n",
              "            (LayerNorm): LayerNorm((768,), eps=1e-12, elementwise_affine=True)\n",
              "            (dropout): Dropout(p=0.1, inplace=False)\n",
              "          )\n",
              "        )\n",
              "      )\n",
              "    )\n",
              "    (pooler): BertPooler(\n",
              "      (dense): Linear(in_features=768, out_features=768, bias=True)\n",
              "      (activation): Tanh()\n",
              "    )\n",
              "  )\n",
              "  (dropout): Dropout(p=0.1, inplace=False)\n",
              "  (classifier): Linear(in_features=768, out_features=2, bias=True)\n",
              ")"
            ]
          },
          "metadata": {},
          "execution_count": 46
        }
      ]
    },
    {
      "cell_type": "code",
      "metadata": {
        "id": "Dd2JdC6IletV"
      },
      "source": [
        "batch_size = 50\n",
        "optimizer = AdamW(model.parameters(),\n",
        "                  lr = 1e-5, # args.learning_rate - default is 5e-5\n",
        "                  eps = 1e-8 # args.adam_epsilon  - default is 1e-8\n",
        "                )\n",
        "# optimizer = torch.optim.SGD(model.parameters(), lr=0.001, weight_decay=1e-6, momentum=0.9, nesterov=True)\n",
        "epochs = 10"
      ],
      "execution_count": 47,
      "outputs": []
    },
    {
      "cell_type": "code",
      "metadata": {
        "id": "O_Mzr-kd5RaY"
      },
      "source": [
        "import numpy as np\n",
        "# function to get validation accuracy\n",
        "def get_validation_performance(val_set, val_len):\n",
        "    # Put the model in evaluation mode\n",
        "    model.eval()\n",
        "\n",
        "    # Tracking variables \n",
        "    total_eval_accuracy = 0\n",
        "    total_eval_loss = 0\n",
        "\n",
        "    batch_size = 50\n",
        "\n",
        "    num_batches = int(val_len/batch_size) + 1\n",
        "\n",
        "    total_correct = 0\n",
        "    mismatch_ids = []\n",
        "\n",
        "    for i in range(num_batches):\n",
        "      #print(i)\n",
        "      end_index = min(batch_size * (i+1), len(val_set))\n",
        "      #print(end_index)\n",
        "      #print(i*batch_size)\n",
        "\n",
        "      batch = val_set[i*batch_size:end_index]\n",
        "      \n",
        "      if len(batch) == 0: continue\n",
        "\n",
        "      input_id_tensors = torch.stack([data[0] for data in batch])\n",
        "      input_mask_tensors = torch.stack([data[1] for data in batch])\n",
        "      label_tensors = torch.stack([data[2] for data in batch])\n",
        "      \n",
        "      # Move tensors to the GPU\n",
        "      b_input_ids = input_id_tensors.to(device)\n",
        "      b_input_mask = input_mask_tensors.to(device)\n",
        "      b_labels = label_tensors.to(device)\n",
        "        \n",
        "      # Tell pytorch not to bother with constructing the compute graph during\n",
        "      # the forward pass, since this is only needed for backprop (training).\n",
        "      with torch.no_grad():        \n",
        "\n",
        "        # Forward pass, calculate logit predictions.\n",
        "        outputs = model(b_input_ids, \n",
        "                                token_type_ids=None, \n",
        "                                attention_mask=b_input_mask,\n",
        "                                labels=b_labels)\n",
        "        loss = outputs.loss\n",
        "        logits = outputs.logits\n",
        "            \n",
        "        # Accumulate the validation loss.\n",
        "        total_eval_loss += loss.item()\n",
        "        \n",
        "        # Move logits and labels to CPU\n",
        "        logits = logits.detach().cpu().numpy()\n",
        "        label_ids = b_labels.to('cpu').numpy()\n",
        "\n",
        "        # Calculate the number of correctly labeled examples in batch\n",
        "        pred_flat = np.argmax(logits, axis=1).flatten()\n",
        "        labels_flat = label_ids.flatten()\n",
        "\n",
        "        \n",
        "        batch_mismatch_ids = [index for index, elem in enumerate(labels_flat) if elem!=pred_flat[index]]\n",
        "        batch_mismatch_ids = [index + i*batch_size for index in batch_mismatch_ids]\n",
        "        # print(batch_mismatch_ids)\n",
        "        mismatch_ids += batch_mismatch_ids\n",
        "\n",
        "        num_correct = np.sum(pred_flat == labels_flat)\n",
        "        total_correct += num_correct\n",
        "        \n",
        "    # Report the final accuracy for this validation run.\n",
        "    avg_val_accuracy = total_correct / len(val_set)\n",
        "    return mismatch_ids, avg_val_accuracy"
      ],
      "execution_count": 48,
      "outputs": []
    },
    {
      "cell_type": "code",
      "metadata": {
        "id": "HTf_ipbjWNoV",
        "colab": {
          "base_uri": "https://localhost:8080/"
        },
        "outputId": "e2c919b4-0db2-44ff-b587-a031aeef077b"
      },
      "source": [
        "import random\n",
        "# Set max_split_size_mb to 200 MB\n",
        "#torch.cuda.set_per_process_memory_fraction(1, device=None)\n",
        "\n",
        "# training loop\n",
        "\n",
        "# For each epoch...\n",
        "for epoch_i in range(0, epochs):\n",
        "    # Perform one full pass over the training set.\n",
        "\n",
        "    print(\"\")\n",
        "    print('======== Epoch {:} / {:} ========'.format(epoch_i + 1, epochs))\n",
        "    print('Training...')\n",
        "\n",
        "    # Reset the total loss for this epoch.\n",
        "    total_train_loss = 0\n",
        "\n",
        "    # Put the model into training mode.\n",
        "    model.train()\n",
        "    #print(train_len)\n",
        "    # For each batch of training data...\n",
        "    num_batches = int(train_len/batch_size) + 1\n",
        "    #print(batch_size)\n",
        "    #print(num_batches)\n",
        "\n",
        "    for i in range(num_batches):\n",
        "      #print(i)\n",
        "      end_index = min(batch_size * (i+1), len(train_set))\n",
        "\n",
        "      batch = train_set[i*batch_size:end_index]\n",
        "      #print(len(batch))\n",
        "\n",
        "      if len(batch) == 0: continue\n",
        "\n",
        "      input_id_tensors = torch.stack([data[0] for data in batch])\n",
        "      input_mask_tensors = torch.stack([data[1] for data in batch])\n",
        "      label_tensors = torch.stack([data[2] for data in batch])\n",
        "\n",
        "      # Move tensors to the GPU\n",
        "      b_input_ids = input_id_tensors.to(device)\n",
        "      b_input_mask = input_mask_tensors.to(device)\n",
        "      b_labels = label_tensors.to(device)\n",
        "\n",
        "      #print(b_input_ids.shape)\n",
        "\n",
        "      # Clear the previously calculated gradient\n",
        "      model.zero_grad()        \n",
        "\n",
        "      # Perform a forward pass (evaluate the model on this training batch).\n",
        "      # Perform a forward pass (evaluate the model on this training batch).\n",
        "      outputs = model(b_input_ids, \n",
        "                      token_type_ids=None,\n",
        "                      attention_mask=b_input_mask, \n",
        "                      labels=b_labels)\n",
        "      loss = outputs.loss\n",
        "      logits = outputs.logits\n",
        "\n",
        "      total_train_loss += loss.item()\n",
        "\n",
        "      # Perform a backward pass to calculate the gradients.\n",
        "      loss.backward()\n",
        "\n",
        "      # Update parameters and take a step using the computed gradient.\n",
        "      optimizer.step()\n",
        "        \n",
        "    # ========================================\n",
        "    #               Validation\n",
        "    # ========================================\n",
        "    # After the completion of each training epoch, measure our performance on\n",
        "    # our validation set. Implement this function in the cell above.\n",
        "    print(f\"Total loss: {total_train_loss}\")\n",
        "    #_, val_acc_eng = get_validation_performance(val_set_eng, val_len_eng)\n",
        "    #print(f\"Validation accuracy English: {val_acc_eng}\")\n",
        "    _, val_acc_hindi = get_validation_performance(val_set, val_len)\n",
        "    print(f\"Validation accuracy Hindi: {val_acc_hindi}\")\n",
        "    \n",
        "print(\"\")\n",
        "print(\"Training complete!\")"
      ],
      "execution_count": 49,
      "outputs": [
        {
          "output_type": "stream",
          "name": "stdout",
          "text": [
            "\n",
            "======== Epoch 1 / 10 ========\n",
            "Training...\n",
            "Total loss: 11.675607442855835\n",
            "Validation accuracy Hindi: 0.583710407239819\n",
            "\n",
            "======== Epoch 2 / 10 ========\n",
            "Training...\n",
            "Total loss: 11.1998450756073\n",
            "Validation accuracy Hindi: 0.6334841628959276\n",
            "\n",
            "======== Epoch 3 / 10 ========\n",
            "Training...\n",
            "Total loss: 10.024749651551247\n",
            "Validation accuracy Hindi: 0.6832579185520362\n",
            "\n",
            "======== Epoch 4 / 10 ========\n",
            "Training...\n",
            "Total loss: 8.546428374946117\n",
            "Validation accuracy Hindi: 0.6877828054298643\n",
            "\n",
            "======== Epoch 5 / 10 ========\n",
            "Training...\n",
            "Total loss: 6.51898392662406\n",
            "Validation accuracy Hindi: 0.7420814479638009\n",
            "\n",
            "======== Epoch 6 / 10 ========\n",
            "Training...\n",
            "Total loss: 4.363882964476943\n",
            "Validation accuracy Hindi: 0.7692307692307693\n",
            "\n",
            "======== Epoch 7 / 10 ========\n",
            "Training...\n",
            "Total loss: 2.547900923527777\n",
            "Validation accuracy Hindi: 0.7104072398190046\n",
            "\n",
            "======== Epoch 8 / 10 ========\n",
            "Training...\n",
            "Total loss: 2.8401631880551577\n",
            "Validation accuracy Hindi: 0.7149321266968326\n",
            "\n",
            "======== Epoch 9 / 10 ========\n",
            "Training...\n",
            "Total loss: 1.4606567253358662\n",
            "Validation accuracy Hindi: 0.7239819004524887\n",
            "\n",
            "======== Epoch 10 / 10 ========\n",
            "Training...\n",
            "Total loss: 1.385043633170426\n",
            "Validation accuracy Hindi: 0.6425339366515838\n",
            "\n",
            "Training complete!\n"
          ]
        }
      ]
    },
    {
      "cell_type": "code",
      "metadata": {
        "id": "msvZ78ii3cZZ",
        "colab": {
          "base_uri": "https://localhost:8080/"
        },
        "outputId": "ec7d6e31-472c-4751-b6fe-b2a231f80a9c"
      },
      "source": [
        "\n",
        "mismatch_ids, test_acc = get_validation_performance(test_set, test_len)\n",
        "print(test_acc)"
      ],
      "execution_count": 50,
      "outputs": [
        {
          "output_type": "stream",
          "name": "stdout",
          "text": [
            "0.568\n"
          ]
        }
      ]
    },
    {
      "cell_type": "code",
      "metadata": {
        "id": "X72mumhI9WdR",
        "colab": {
          "base_uri": "https://localhost:8080/"
        },
        "outputId": "fa6361c3-b10a-4d01-de16-eb3bac79d26a"
      },
      "source": [
        "\n",
        "\n",
        "incorrect_classif_instances = []\n",
        "for i in range(len(mismatch_ids)):\n",
        "  incorrect_classif_instances.append(test_text[i])\n",
        "\n",
        "print(incorrect_classif_instances)"
      ],
      "execution_count": 51,
      "outputs": [
        {
          "output_type": "stream",
          "name": "stdout",
          "text": [
            "['तो तुम बस ऐसे ही, एक आदमी हो जो नैनी है? ', 'मुझें नहीं पता! मैं नहीं—शायद आप थोड़ा नाराज महसूस कर रहे हैं। शायद आह, शायद तुमने सोचा था कि तुम पहले शादी करोगे! शायद आप इस तथ्य को बर्दाश्त नहीं कर सकते कि आपके औपचारिक रूप से मोटे दोस्त की शादी आपसे पहले हो रही है!', 'तुम एक मूर्ख हो!', 'हाँ, वे करते हैं! बच्चे की तरह बनना छोड़ो और मुझे अकेला छोड़ो! देखो, तुमने अभी अपना पहला सबक सिख लिया है! ', 'ओहायो में एक गर्भवती महिला है, और उसने हमें चुना है!', 'मुझे अकेले वापस जाने का मन नहीं है, मुझे बहुत अकेलापन महसूस होता है। ओह, तुम मेरे साथ चलो?', 'हर कोई कहता है कि आपके पास पुरुष और महिला दोनों प्रजनन अंग हैं।', 'तुमने एक आदमी को चुम्मा दिया! हे भगवान। एक आदमी बनो!', 'आप पर लज्जा होनी चाहिए! बदसूरत बच्चा आपका निर्णय करता है! ', 'चांडलर कितने साल का था जब उसने पहली बार किसी लड़की के स्तन को छुआ था?', 'बेवकूफ, बूढ़ी, नौकरी के लिए पूर्णतः उपयुक्त हिल्डा।', 'चांडलर! हर कोई--कोई भी मेरा टस्कन फिंगर फूड नहीं खा रहा है, क्योंकि वे सभी फीबे के बर्फीले शंकुओं को भर रहे हैं!', 'अरे, मुझे देखो, मैं एक वेश्या हूँ! ', 'हां, हां, यह बहुत अच्छा होगा! आप समुद्र तट पर लेट सकते हैं और मैं अपनी असफल शादी पर रो सकती हूं। देखो, मैं कैसे मज़ाक बनाती हूं?', 'जॉय, तुम धीरे-धीरे एक महिला में बदल रही हो।', 'इंयू, इंयू, इंयू, इंयू इंयू इंयू इंयू। बेदर्द न्यूड आदमी ने थायमास्टर ख़रीदा है।', 'अरे अरे, तुम लोग, देखो! बदसूरत नंगा आदमी बक्सों में सामान डाल रहा है!', 'मैं समझता हूँ! महिलाएं निराश करती हैं!! ', 'ओह कृपया, और आप जानते थे कि मैं उसे कितना पसंद करता था।', 'देखो, मैंने तुमसे कहा था, मैं किसी क्लिनिक नहीं जा रहा हूँ! मुझे कोई समस्या नहीं है, आप समस्या वाले हैं! आपको \"बच्चा बनना छोड़ो और मुझे अकेला छोड़ दो\" क्लिनिक जाना चाहिए!', 'ठीक है, यदि एक आदमी आपके सिर पर बंदूक रखकर कहे, \"तुम इस बाइक पर सवारी करो वरना मैं... मैं तुम्हें गोली मार दूंगा।\"', '...मुझे उससे जलन हो रही है?! मेरा मतलब है कि वह कौन सोचती है कि वह है ?! राजकुमारी कैरोलीन ?! वह चूसती है।', 'ठीक है देखो, मैं तुम्हें सूची दिखाता हूँ! देखना? हुह? यह नवीनतम बात है! सबके पास एक है! पुरुष! औरत! बच्चे! हर कोई उन्हें ले जा रहा है!', \"अह, 'पेलियोंटोलॉजी विभाग के आकर्षक लोग।' वहाँ एक बड़ी बिक्री वाला कैलेंडर है, है ना?\", 'हाँ, देखो, मेरा मतलब यह नहीं है कि वह शैतान है या कुछ ऐसा है। वह, आप जानते हैं, मेरी वस्तुओं को हमेशा तोड़ देती है। जब मैं आठ साल का था और मैंने उसे मेरे Judy Jetson थर्मोस नहीं दिया, तो उसने उसे बस के नीचे फेंक दिया। और फिर, ओह, फिर रैंडी ब्राउन था, जो ऐसा था... क्या आपके पास कभी ऐसा कोई प्रेमी रहा है जो आपका सबसे अच्छा दोस्त था?', 'तुम जानते हो, हमें शायद डॉक्टर से पूछना चाहिए कि उन्हें क्या पता है कि वह कैसे एक बच्चे को पैदा करते हैं जो आधा मानव और आधा पूर्ण बुराई है।', 'वाह! मैंने कभी इतना स्वस्थ तरीके से ब्रेकअप नहीं किया! वह इस बारे में बहुत वयस्क थी! वह मेरे लिए बहुत अपरिपक्व नहीं लगी! क्या मैंने एक बड़ी गलती कर दी है?', 'यह मजाक है, क्योंकि मुझे लग रहा था कि आप जोए ट्रिबियानी की तरह दिख रहे हैं, पुरुष / महिला।', 'चलिए, मुझे वास्तव में अभी इसे करना नहीं है। मैं एक बहुत भारी सोफ़ा उठा रहा हूँ।', 'मैं तुम्हारी आँखें खोलने की कोशिश कर रहा हूँ, मेरे आदमी! क्या तुम नहीं देखते, अगर तुम फीबे के साथ रहते तो वह हमेशा वहाँ रहती। तुम घर जाने वाले हो, वह वहाँ है। तुम बिस्तर पर जाओ, वह वहाँ है। तुम जागो और ओह हाँ, वह वहाँ है! क्या बकवास है?', 'मुझे बहुत खुशी होगी, लेकिन मुझे अपने माता-पिता से बात करनी होगी। वे हमें बता रहे हैं कि वे आपको गोद लिया है।', 'मैं भी। हाँ, यहाँ बहुत अच्छा है। मैं तुम लोगों के लिए खुश हूँ। हालांकि, तुम्हें ख़मीर पसंद होगा उम्मीद है।', 'चैंडलर, तुम घिनौने हो। कौन शार्क पॉर्न देखता है!', 'उम्म, उन्हें अच्छा नहीं लगता जब आप उनकी व्याकरण को सही करते हैं।', 'हाँ, तुम जानते हो, वह आह, वह मेरी बात कर रही थी जिसके बारे में कल रात कहा था? यह बात साबित हुई है कि वह फिर से मेरे साथ मिलना चाहती है। ओह, मैंने यह पाया है!', 'हे भगवान, सभी पुरुष कहाँ हैं!?', 'आह, मैं एक सस्ती रंडी की तरह मुड़ गया हूँ जिसे एक मोटे आदमी ने अपने चेहरे पर घावों के साथ पेट में मारा है। ओह, मैं बाहर हूँ।', 'नहीं! नहीं, मैं नहीं करूँगा! मैं अब डेटिंग बैरल के नीचे रहूंगा। मेरे नीचे केवल चार तलाक वाले लड़के उह, मर्डरर लड़के, और-और, भूवैज्ञानिक होंगे।', 'रॉस और रेचेल को एक बच्चे के साथ देखना कितना अजीब है। यह अभी इतना बड़ा हो गया है।', 'क्या यह इशारा है? क्योंकि हम आपको प्यार करते हैं, डॉक्टर कॉनेली, लेकिन हमें लगता है कि हम आपको अपने बच्चे नहीं चाहेंगे! वाह, यह एक अनुकूल वातावरण के बारे में बात कर रहे हैं!', 'तुम्हारे कोई मानक नहीं हैं। तुम वह व्यक्ति हो जो पचास मिनट के भीतर तलाक होने के बाद एक आदमी के पीछे जाता है।', 'हाँ, मैंने काम पर इस आदमी से यह नंबर प्राप्त किया था और मैंने एक स्ट्रिपर को रखा है जो तुम्हारे लिए नृत्य करेगी। क्या मैं पत्नी हॉल ऑफ फेम में जा रही हूँ या नहीं?! ', 'छी! क्या आप समलैंगिक हैं?', 'वहाँ एक अनाकर्षक नग्न व्यक्ति सेलो बजा रहा है।', 'ठीक है, यह शानदार होगा! बस आप उसे यह महसूस कराने के लिए बताएं कि आप उसके साथ सेक्स करना चाहते हैं! यह उसे पूरी तरह से अचंभित कर देगा!', 'असली दुनिया में आपका स्वागत है! यह बहुत बेकार है।', 'नहीं। ठीक है, आपको पता है, वह सोचेगी कि मैं आपको एक क्रेडिट कार्ड दे रहा हूँ, लेकिन वास्तव में मैं आपको एक लाइब्रेरी कार्ड दे रहा हूँ।', 'एमिली के चचेरे भाई ने मुझे बाहर निकाल दिया!', 'मुझे पता है कि आप शायद मेरे साथ बाहर नहीं जाना चाहते हैं, क्योंकि मैं बहुत अधिक मजाक करता हूं और मैं कभी गंभीर रिश्ते में नहीं रहा हूं और मुझे लगता है कि मैं तकनीकी रूप से \"डॉक्टर ...\" नहीं हूं।', 'वही तो आप थे?! हमने तो आपके बारे में जूनियर हाई स्कूल में सुना था! क्या आपने सचमुच हवा में अपना मुड़ा हुआ मुँह बनाकर आक्रोशित होकर कहा, \"मैं बदला लूंगा?!\"', 'मुझे एक योजना चाहिए थी, अपने पुरुष से पार करने के लिए। और पुरुष का विपरीत क्या होता है? जाम।', 'मुझे दो पक्के तरीके पता हैं जिनसे आदमी को चुप करा सकते हैं। और उनमें से एक है सेक्स। पुरुष मूर्ख होते हैं।', 'ठीक है, आपने कहा था कि आपके ग्राहक गली में कतार में खड़े थे, इसलिए मैं यहाँ मनोरंजन करने के लिए हूँ!', 'वाह, बहुत अच्छा! हम फिर से शनिवार को बाहर जा रहे हैं। लेकिन मैंने अभी यह जान लिया है कि वह किसी और लड़के के साथ भी मिल रही है। ']\n"
          ]
        }
      ]
    },
    {
      "cell_type": "code",
      "source": [],
      "metadata": {
        "id": "pSIhCqSVJhoN"
      },
      "execution_count": 51,
      "outputs": []
    }
  ]
}